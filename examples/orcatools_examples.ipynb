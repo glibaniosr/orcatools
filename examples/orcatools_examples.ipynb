{
 "cells": [
  {
   "cell_type": "code",
   "execution_count": 4,
   "metadata": {},
   "outputs": [
    {
     "ename": "ModuleNotFoundError",
     "evalue": "No module named 'orcatools.out.ORCAOUT'; 'orcatools.out' is not a package",
     "output_type": "error",
     "traceback": [
      "\u001b[0;31m---------------------------------------------------------------------------\u001b[0m",
      "\u001b[0;31mModuleNotFoundError\u001b[0m                       Traceback (most recent call last)",
      "Cell \u001b[0;32mIn[4], line 1\u001b[0m\n\u001b[0;32m----> 1\u001b[0m \u001b[38;5;28;01mimport\u001b[39;00m \u001b[38;5;21;01morcatools\u001b[39;00m\u001b[38;5;21;01m.\u001b[39;00m\u001b[38;5;21;01mout\u001b[39;00m\u001b[38;5;21;01m.\u001b[39;00m\u001b[38;5;21;01mORCAOUT\u001b[39;00m\n",
      "\u001b[0;31mModuleNotFoundError\u001b[0m: No module named 'orcatools.out.ORCAOUT'; 'orcatools.out' is not a package"
     ]
    }
   ],
   "source": [
    "import orcatools.out.ORCAOUT"
   ]
  },
  {
   "cell_type": "code",
   "execution_count": 2,
   "metadata": {},
   "outputs": [
    {
     "name": "stdout",
     "output_type": "stream",
     "text": [
      "To use orca-run you need to first export ORCAPATH and ORCASCR variables in your enviroment.\n"
     ]
    }
   ],
   "source": [
    "# Create, write an input file from string blocks, and run it.\n",
    "from orcatools.inp import ORCAINP\n",
    "xyz = \"B 0.0 0.0 0.8\"\n",
    "osi = \"! CCSD(T) cc-pVDZ\"\n",
    "charge = 0\n",
    "mult = 2\n",
    "\n",
    "inp = ORCAINP(\"B.ccsd.inp\", xyz_block=xyz, osi_block=osi, charge=charge, mult=mult)\n",
    "inp.run(nprocs=2)\n",
    "\n",
    "#help(ORCAINP)\n",
    "#help(ORCAINP.run)"
   ]
  },
  {
   "cell_type": "code",
   "execution_count": 3,
   "metadata": {},
   "outputs": [],
   "source": [
    "# Read input blocks from input file, change block and rewrite in new file\n",
    "from orcatools.inp import ORCAINP\n",
    "from orcatools.tools import get_input_blocks_from_file\n",
    "\n",
    "# Read input\n",
    "osi, obl, xyz, charge, mult = get_input_blocks_from_file(\"B.ccsd.inp\")\n",
    "# Change ORCA input blocks\n",
    "osi = \"! CCSD(T) cc-pVTZ\\n\"\n",
    "obl = \"%scf MaxIter 250 end\"\n",
    "xyz = inp.xyzstr\n",
    "xyz += \"B 0.0 0.0 -0.8\"\n",
    "\n",
    "# Update input blocks\n",
    "inp.update_osi(osi)\n",
    "inp.update_obl(obl)\n",
    "inp.update_xyz(xyz)\n",
    "inp.update_name(\"B2.ccsd.inp\")\n",
    "inp.update_mult(3)\n",
    "inp.write_input()\n",
    "\n",
    "# help(ORCAINP.update_name)\n",
    "# help(ORCAINP.update_osi)\n",
    "# help(ORCAINP.update_obl)\n",
    "# help(ORCAINP.update_xyz)"
   ]
  },
  {
   "cell_type": "code",
   "execution_count": null,
   "metadata": {},
   "outputs": [],
   "source": [
    "# Interpolate coordinates from two output files and write xyz files.\n",
    "import orcatools as ot\n",
    "from orcatools.out import ORCAOUT\n",
    "from orcatools.tools import interpolate\n",
    "\n",
    "xyz_a = ORCAOUT(\"a.out\").xyz_coords\n",
    "xyz_b = ORCAOUT(\"b.out\").xyz_str\n",
    "\n",
    "xyzs = interpolate(xyz_a, xyz_b, 5)\n",
    "\n",
    "for idx,coords in enumerate(xyzs):\n",
    "   ot.tools.write_xyzfile_from_coordinates(coords, f\"xyzs/xyz_{idx+1:02d}.xyz\")\n",
    "\n",
    "# help(ORCAOUT)\n",
    "# help(interpolate)"
   ]
  },
  {
   "cell_type": "code",
   "execution_count": null,
   "metadata": {},
   "outputs": [],
   "source": [
    "# Run direct from input file and not ORCAINP object.\n",
    "from orcatools.tools import orca_run\n",
    "\n",
    "inp = \"B2.ccsd.inp\"\n",
    "orca_run(inp, nprocs=2, output=\"orca_output.log\")"
   ]
  }
 ],
 "metadata": {
  "kernelspec": {
   "display_name": "orca",
   "language": "python",
   "name": "python3"
  },
  "language_info": {
   "codemirror_mode": {
    "name": "ipython",
    "version": 3
   },
   "file_extension": ".py",
   "mimetype": "text/x-python",
   "name": "python",
   "nbconvert_exporter": "python",
   "pygments_lexer": "ipython3",
   "version": "3.12.2"
  }
 },
 "nbformat": 4,
 "nbformat_minor": 2
}
