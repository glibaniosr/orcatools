{
 "cells": [
  {
   "cell_type": "code",
   "execution_count": null,
   "metadata": {},
   "outputs": [],
   "source": [
    "# Create and write an input file from string blocks\n",
    "\n",
    "from orcatools.inp import ORCAINP\n",
    "xyz = \"B 0.0 0.0 0.0\"\n",
    "osi = \"! CCSD cc-pVDZ\"\n",
    "charge = 0\n",
    "mult = 2\n",
    "\n",
    "inp = ORCAINP(\"example.inp\", xyz_block=xyz, osi_block=osi, charge=charge, mult=mult)\n",
    "inp.run(nprocs=2)\n",
    "# or\n",
    "# inp.run(2)\n",
    "# or\n",
    "help(ORCAINP.run)"
   ]
  },
  {
   "cell_type": "code",
   "execution_count": null,
   "metadata": {},
   "outputs": [],
   "source": [
    "# Read input, change block and rewrite in new file\n",
    "from orcatools.inp import ORCAINP\n",
    "\n",
    "# Read input\n",
    "inp = ORCAINP(\"B.ccd.inp\")\n",
    "# Change ORCA simple input block\n",
    "osi = \"! CCSD(T) cc-pVDZ\"\n",
    "inp.update_osi(osi)\n",
    "# Change input name and write input file\n",
    "inp.update_name(\"example.inp\")\n",
    "inp.write_input()"
   ]
  },
  {
   "cell_type": "code",
   "execution_count": null,
   "metadata": {},
   "outputs": [],
   "source": [
    "# Interpolate coordinates from two output files and write xyz files.\n",
    "import orcatools as ot\n",
    "from orcatools.out import ORCAOUT\n",
    "from orcatools.tools import interpolate\n",
    "\n",
    "xyz_a = ORCAOUT(\"a.out\").xyz_coords\n",
    "xyz_b = ORCAOUT(\"b.out\").xyz_str\n",
    "xyzs = interpolate(xyz_a, xyz_b, 5)\n",
    "\n",
    "for idx,coords in enumerate(xyzs):\n",
    "    ot.tools.write_xyzfile_from_coordinates(coords, f\"xyzs/xyz_{idx:02d}.xyz\")"
   ]
  },
  {
   "cell_type": "code",
   "execution_count": null,
   "metadata": {},
   "outputs": [],
   "source": [
    "from orcatools.tools import orca_run\n",
    "# Run direct from input file and not ORCAINP object.\n",
    "inp = \"B.ccd.inp\"\n",
    "orca_run(inp, nprocs=2, output=\"orca_output.log\")"
   ]
  }
 ],
 "metadata": {
  "kernelspec": {
   "display_name": "orca",
   "language": "python",
   "name": "python3"
  },
  "language_info": {
   "codemirror_mode": {
    "name": "ipython",
    "version": 3
   },
   "file_extension": ".py",
   "mimetype": "text/x-python",
   "name": "python",
   "nbconvert_exporter": "python",
   "pygments_lexer": "ipython3",
   "version": "3.12.2"
  }
 },
 "nbformat": 4,
 "nbformat_minor": 2
}
